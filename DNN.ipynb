{
 "cells": [
  {
   "cell_type": "code",
   "execution_count": 1,
   "metadata": {},
   "outputs": [
    {
     "name": "stderr",
     "output_type": "stream",
     "text": [
      "Using TensorFlow backend.\n"
     ]
    }
   ],
   "source": [
    "from sklearn.datasets import fetch_20newsgroups\n",
    "from keras.layers import  Dropout, Dense\n",
    "from keras.models import Sequential\n",
    "from sklearn.feature_extraction.text import TfidfVectorizer\n",
    "import numpy as np\n",
    "from sklearn import metrics"
   ]
  },
  {
   "cell_type": "markdown",
   "metadata": {},
   "source": [
    "# TFIDF"
   ]
  },
  {
   "cell_type": "code",
   "execution_count": 2,
   "metadata": {},
   "outputs": [],
   "source": [
    "def TFIDF(X_train, X_test,MAX_NB_WORDS=75000):\n",
    "    vectorizer_x = TfidfVectorizer(max_features=MAX_NB_WORDS)\n",
    "    X_train = vectorizer_x.fit_transform(X_train).toarray()\n",
    "    X_test = vectorizer_x.transform(X_test).toarray()\n",
    "    print(\"tf-idf with\",str(np.array(X_train).shape[1]),\"features\")\n",
    "    return (X_train,X_test)"
   ]
  },
  {
   "cell_type": "markdown",
   "metadata": {},
   "source": [
    "# Building DNN model "
   ]
  },
  {
   "cell_type": "code",
   "execution_count": 3,
   "metadata": {},
   "outputs": [],
   "source": [
    "def Build_Model_DNN_Text(shape, nClasses, dropout=0.5):\n",
    "    \"\"\"\n",
    "    buildModel_DNN_Tex(shape, nClasses,dropout)\n",
    "    Build Deep neural networks Model for text classification\n",
    "    Shape is input feature space\n",
    "    nClasses is number of classes\n",
    "    \"\"\"\n",
    "    model = Sequential()\n",
    "    node = 512 # number of nodes\n",
    "    nLayers = 4 # number of  hidden layer\n",
    "    model.add(Dense(node,input_dim=shape,activation='relu'))\n",
    "    model.add(Dropout(dropout))\n",
    "    for i in range(0,nLayers):\n",
    "        model.add(Dense(node,input_dim=node,activation='relu'))\n",
    "        model.add(Dropout(dropout))\n",
    "    model.add(Dense(nClasses, activation='softmax'))\n",
    "    model.compile(loss='sparse_categorical_crossentropy',\n",
    "                  optimizer='adam',\n",
    "                  metrics=['accuracy'])\n",
    "    return model"
   ]
  },
  {
   "cell_type": "markdown",
   "metadata": {},
   "source": [
    "# Loading Dataset"
   ]
  },
  {
   "cell_type": "code",
   "execution_count": 4,
   "metadata": {},
   "outputs": [],
   "source": [
    "newsgroups_train = fetch_20newsgroups(subset='train')\n",
    "newsgroups_test = fetch_20newsgroups(subset='test')\n",
    "X_train = newsgroups_train.data\n",
    "X_test = newsgroups_test.data\n",
    "y_train = newsgroups_train.target\n",
    "y_test = newsgroups_test.target"
   ]
  },
  {
   "cell_type": "code",
   "execution_count": 5,
   "metadata": {},
   "outputs": [
    {
     "name": "stdout",
     "output_type": "stream",
     "text": [
      "tf-idf with 75000 features\n",
      "Train on 11314 samples, validate on 7532 samples\n",
      "Epoch 1/10\n",
      " - 50s - loss: 2.7930 - accuracy: 0.1034 - val_loss: 2.0432 - val_accuracy: 0.3204\n",
      "Epoch 2/10\n",
      " - 42s - loss: 1.4573 - accuracy: 0.4764 - val_loss: 0.9871 - val_accuracy: 0.6762\n",
      "Epoch 3/10\n",
      " - 42s - loss: 0.6628 - accuracy: 0.7542 - val_loss: 0.8145 - val_accuracy: 0.7430\n",
      "Epoch 4/10\n",
      " - 44s - loss: 0.3388 - accuracy: 0.8828 - val_loss: 0.8094 - val_accuracy: 0.7767\n",
      "Epoch 5/10\n",
      " - 45s - loss: 0.1859 - accuracy: 0.9390 - val_loss: 0.8621 - val_accuracy: 0.7924\n",
      "Epoch 6/10\n",
      " - 44s - loss: 0.1107 - accuracy: 0.9668 - val_loss: 0.9012 - val_accuracy: 0.8020\n",
      "Epoch 7/10\n",
      " - 43s - loss: 0.0994 - accuracy: 0.9725 - val_loss: 0.9136 - val_accuracy: 0.7983\n",
      "Epoch 8/10\n",
      " - 42s - loss: 0.0671 - accuracy: 0.9806 - val_loss: 1.0476 - val_accuracy: 0.7900\n",
      "Epoch 9/10\n",
      " - 42s - loss: 0.0532 - accuracy: 0.9844 - val_loss: 0.9900 - val_accuracy: 0.7973\n",
      "Epoch 10/10\n",
      " - 42s - loss: 0.0474 - accuracy: 0.9864 - val_loss: 0.9722 - val_accuracy: 0.8032\n"
     ]
    },
    {
     "data": {
      "text/plain": [
       "<keras.callbacks.callbacks.History at 0x20272ab2278>"
      ]
     },
     "execution_count": 5,
     "metadata": {},
     "output_type": "execute_result"
    }
   ],
   "source": [
    "X_train_tfidf,X_test_tfidf = TFIDF(X_train,X_test)\n",
    "model_DNN = Build_Model_DNN_Text(X_train_tfidf.shape[1], 20)\n",
    "model_DNN.fit(X_train_tfidf, y_train,\n",
    "                              validation_data=(X_test_tfidf, y_test),\n",
    "                              epochs=10,\n",
    "                              batch_size=128,\n",
    "                              verbose=2)"
   ]
  },
  {
   "cell_type": "code",
   "execution_count": 9,
   "metadata": {},
   "outputs": [],
   "source": [
    "predicted = model_DNN.predict_classes(X_test_tfidf)"
   ]
  },
  {
   "cell_type": "code",
   "execution_count": 10,
   "metadata": {},
   "outputs": [
    {
     "data": {
      "text/plain": [
       "array([ 9, 12,  0, ...,  9,  3, 15], dtype=int64)"
      ]
     },
     "execution_count": 10,
     "metadata": {},
     "output_type": "execute_result"
    }
   ],
   "source": [
    "predicted"
   ]
  },
  {
   "cell_type": "code",
   "execution_count": 11,
   "metadata": {},
   "outputs": [
    {
     "name": "stdout",
     "output_type": "stream",
     "text": [
      "              precision    recall  f1-score   support\n",
      "\n",
      "           0       0.73      0.79      0.76       319\n",
      "           1       0.64      0.73      0.68       389\n",
      "           2       0.73      0.64      0.68       394\n",
      "           3       0.58      0.78      0.67       392\n",
      "           4       0.83      0.74      0.78       385\n",
      "           5       0.69      0.77      0.73       395\n",
      "           6       0.82      0.84      0.83       390\n",
      "           7       0.95      0.83      0.88       396\n",
      "           8       0.89      0.95      0.92       398\n",
      "           9       0.94      0.93      0.93       397\n",
      "          10       0.98      0.95      0.97       399\n",
      "          11       0.96      0.87      0.91       396\n",
      "          12       0.71      0.72      0.72       393\n",
      "          13       0.86      0.77      0.81       396\n",
      "          14       0.90      0.85      0.88       394\n",
      "          15       0.92      0.87      0.89       398\n",
      "          16       0.74      0.90      0.81       364\n",
      "          17       0.99      0.73      0.84       376\n",
      "          18       0.73      0.65      0.69       310\n",
      "          19       0.58      0.67      0.62       251\n",
      "\n",
      "    accuracy                           0.80      7532\n",
      "   macro avg       0.81      0.80      0.80      7532\n",
      "weighted avg       0.82      0.80      0.81      7532\n",
      "\n"
     ]
    }
   ],
   "source": [
    "print(metrics.classification_report(y_test, predicted))"
   ]
  },
  {
   "cell_type": "code",
   "execution_count": null,
   "metadata": {},
   "outputs": [],
   "source": []
  }
 ],
 "metadata": {
  "kernelspec": {
   "display_name": "Python 3",
   "language": "python",
   "name": "python3"
  },
  "language_info": {
   "codemirror_mode": {
    "name": "ipython",
    "version": 3
   },
   "file_extension": ".py",
   "mimetype": "text/x-python",
   "name": "python",
   "nbconvert_exporter": "python",
   "pygments_lexer": "ipython3",
   "version": "3.6.9"
  }
 },
 "nbformat": 4,
 "nbformat_minor": 4
}
